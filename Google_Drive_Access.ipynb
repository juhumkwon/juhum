{
  "nbformat": 4,
  "nbformat_minor": 0,
  "metadata": {
    "colab": {
      "provenance": [],
      "authorship_tag": "ABX9TyPQirfnFzH4XOBgKarUmQc5",
      "include_colab_link": true
    },
    "kernelspec": {
      "name": "python3",
      "display_name": "Python 3"
    },
    "language_info": {
      "name": "python"
    }
  },
  "cells": [
    {
      "cell_type": "markdown",
      "metadata": {
        "id": "view-in-github",
        "colab_type": "text"
      },
      "source": [
        "<a href=\"https://colab.research.google.com/github/juhumkwon/juhum/blob/main/Google_Drive_Access.ipynb\" target=\"_parent\"><img src=\"https://colab.research.google.com/assets/colab-badge.svg\" alt=\"Open In Colab\"/></a>"
      ]
    },
    {
      "cell_type": "code",
      "execution_count": 7,
      "metadata": {
        "colab": {
          "base_uri": "https://localhost:8080/"
        },
        "id": "Swi6C4i0QZXf",
        "outputId": "9c8affdb-b5ad-4f7c-ecfd-7460d70c484d"
      },
      "outputs": [
        {
          "output_type": "stream",
          "name": "stdout",
          "text": [
            "Drive already mounted at /content/drive; to attempt to forcibly remount, call drive.mount(\"/content/drive\", force_remount=True).\n"
          ]
        }
      ],
      "source": [
        "from google.colab import drive\n",
        "drive.mount('/content/drive')\n"
      ]
    },
    {
      "cell_type": "code",
      "source": [
        "import os\n",
        "\n",
        "file_path = '/content/drive/My Drive'\n",
        "print(os.listdir(file_path))\n"
      ],
      "metadata": {
        "colab": {
          "base_uri": "https://localhost:8080/"
        },
        "id": "r_7klzZKQ9fB",
        "outputId": "080133cf-035d-4548-cdaa-ba5952c5206e"
      },
      "execution_count": 18,
      "outputs": [
        {
          "output_type": "stream",
          "name": "stdout",
          "text": [
            "['Colab Notebooks', 'Data', '20241115_171806.jpg', '20241115_171800.jpg', '20241115_140203.jpg', '20241112_102319.jpg', '20241112_102259.jpg', '20241112_090619.jpg', '20241111_161500.jpg', '20241118_094841.jpg', '20241118_094831.jpg', '1731241210669-10.jpg', '1731241210669-9.jpg', '1731241210669-7.jpg', '1731241210669-6.jpg', '1731241210669-5.jpg', '1731241210669-4.jpg', '1731241210669-2.jpg', '1731241210669-1.jpg', '1731241210669-0.jpg', 'bcc81cd5847d441a677447774c72869d6b80a8d4aad29d6b014f66d68462b423.jpg', '4c22476737e90f67f16ec48fd3734708b95f700a359c4c6f1fd103c53fba49ab.jpg', 'ab097390cafe39a0a56a760fc726719676d117e909dfebeca172b0a052be4226.jpg', '9d1994da022791ce36f69e2d8dd1cddc88385fb2c64690e91deb2197ca3c2c3a.jpg', 'fa4b1daaa4fac6aacbbbf1033bd5eefaaa22f787b8d4b6daff99745f3664281e.jpg', '380e8d5db0dac8d628dc4c21266b0565457e1693fd7fccab3c140c284398ac13.jpg', 'cad915491972c69991669f3f82201c17dc14b469e3b2bba9ed0cc6a6b18c3c08.jpg', 'f2ddbe3a2198060f6cab6bf4df2e293ea13ced47ff5a8a948408d6887952f1e6.jpg', '0472f037dc7a4751d6d62144eb9e68b93eb686683270114d2938d084f8bbaaeb.jpg', '4296c9bca10b315cd61c628555ec93ba0af1ec0a082062bd3078270aeb1dccf6.jpg', 'da6e0114c66c2136ab9cdd9496ef72cc0dd6414b615bca54a06ad7d0a7252188.jpg', 'fb99290ed5b87506bb4df2b2a7222bd333d5b0c2387d388fda65b3b38a9cbc7b.jpg', 'af554d7463043751b33afdd4d7e6c79d03ea5d4978504a0458666c9c490b395c.jpg', '704ab04dddf3ced4e766f7156494714d9e6786f2348a284f1228c185f716c62e.jpg', '20241110_134154.jpg', '20241110_134145.jpg', '20241110_130637.jpg', '20241110_130626.jpg', '20241110_130252.jpg', '20241110_130250.jpg', '20241110_130243.jpg', '20241110_130152.jpg', 'd820a0e1322b3bf853b8b7e20320884f81e02d09d870cc2329cfc4d3f76aee1d.jpg', '2c7a8bcda6252d4f92533f223b03bf807713dcdd95de90aa4fb526c29c892fb8.jpg', '9cf1857d24248aa454fb74e48f9ad591fdbd0a31abeda2d507afb8cffa56cf4e.jpg', '20241027_141317.jpg', '20241027_121455.jpg', '20241027_121446.jpg', '20241027_121444.jpg', '20241027_121442.jpg', '20241027_121436.jpg', '20241027_121430.jpg', '20241027_121037.jpg', '20241027_120938.jpg', '20241027_120912.jpg', '20241027_120735.jpg', '20241027_120723.jpg', '20241027_120425.jpg', '20241027_120421.jpg', '20241027_112311.jpg', '20241027_112308.jpg', '20241027_112305.jpg', '20241027_112254.jpg', '20241027_112248.jpg', '20241027_111818.jpg', '20241027_111814.jpg', '20241027_111745.jpg', '20241027_094319.jpg', '20241027_094029.jpg', 'Screenshot_20241025_233144_KakaoTalk.jpg', 'Screenshot_20241025_233137_KakaoTalk.jpg', 'b45165cf0b20b78b7c0b819c0d5586be9f79c35d7284c2618ca6926d683428cc.jpg', 'Screenshot_20241025_213815_KakaoTalk.jpg', 'ecc086e913f5fd4a9da3a5bb82374a09b351c59747f61efb99eabafd46c4766b.jpg', 'Screenshot_20241025_213433_KakaoTalk.jpg', '20241025_004603.jpg', 'Screenshot_20241024_171652_Google.jpg', '20241024_121823.jpg', '5054bbbd32c1e900dccef76e93048dead5c4180f5fb00263a96b27e8f494fc75.jpg', '83963b68e98f7d8352f8732140c410f806e61fb7dbca5f1e9d3639689c6d7d3c.jpg', '20241016_114446.jpg', '20241016_114229.jpg', '20241007_145955.jpg', '20241007_145857.jpg', 'a66bc0e083f2e5a4de618a23d66bafe3de3380b2f7200b0440166bdb4959ad26.jpg', 'de31459166e10a79673a53e4668bc1689a8c4b74885eaeacb6fc22f3958458c7.jpg', '5d05367e45b1646954b680eb4a439ddb01e638742f75c062e15972726d0f968f.jpg', '20241005_180647.jpg', '20241005_180613.jpg', '1725681801849-1.jpg', '1725681801849-0.jpg', '1721911534719.jpg', 'Screenshot_20240511_230411_YouTube.jpg', 'Screenshot_20240509_045400_Chrome.jpg', '1715151779055.jpg', 'BandPhoto_2024_04_27_20_51_53.jpg', 'BandPhoto_2024_04_23_09_41_59.jpg', '1712314268148.jpg', '1703744635973.jpg', '1703744513761.jpg', 'Screenshot_20231224_002138_Chrome.jpg', '1702722768172.jpg', '1702129244048.jpg', '1700123002662.jpg', '1700122999675.jpg', '1698919668769.jpg', '1698919668665.jpg', '1694911286004.jpg', '1694911285939.jpg', '1694911285505.jpg', '1694911285153.jpg', '1694911285109.jpg', '1694911285076.jpg', '1694911285039.jpg', '1694911284959.jpg', '1694911284826.jpg', '1693045180678.jpg', '1690371490255.jpg', '1690371490116.jpg', '1690371490058.jpg', '1690371489973.jpg', '1690371489921.jpg', '1690371489868.jpg', '1690371489770.jpg', 'IMG_20230707_224952_549.jpg', '1684830671337.jpg', '1684815504870.jpg', '1684813475147.jpg', '1684830597450.jpg', '1684830585537.jpg', '1684830539997.jpg', '1684830528883.jpg', '1638256907717-7.jpg', '1638256907717-4.jpg', '1650164846814-4.jpg', '1650164846814-2.jpg', '1656042556630-0.jpg', '1638256907717-6.jpg', '1638256907717-5.jpg', '1638256907717-11.jpg', '1638256907717-10.jpg', '1650164846814-3.jpg', '1658456869960.jpg', '1664071276948.jpg', '1664071277042.jpg', '1664071277090.jpg', '1664071289344.jpg', '1664095553664.jpg', '1664095553742.jpg', '1664095553797.jpg', '1668290984408.jpg', '1669238790611.jpg', '1669238795744.jpg', '1680424318765.jpg', '1680424318850.jpg', '1680424318890.jpg', '1680424318951.jpg', '1680424319000.jpg', '1680424319049.jpg', '1680438696517.jpg', '1680438696602.jpg', '1680438696652.jpg', '1680438696700.jpg', '1682154339959.jpg', '1682154339893.jpg', '1682154339806.jpg', '1681037073581.jpg', '1681037073696.jpg', 'test']\n"
          ]
        }
      ]
    },
    {
      "cell_type": "code",
      "source": [
        "import pandas as pd\n",
        "import os\n",
        "\n",
        "file_path = '/content/drive/My Drive/Data/train.csv' # Make sure this path is accurate\n",
        "\n",
        "if os.path.exists(file_path):\n",
        "  df = pd.read_csv(file_path)\n",
        "  print(df.head())\n",
        "else:\n",
        "  print(f\"Error: File not found at {file_path}. Please check the file path and ensure the file exists.\")\n",
        "\n",
        "df.to_csv('/content/drive/My Drive/output.csv', index=False)\n"
      ],
      "metadata": {
        "colab": {
          "base_uri": "https://localhost:8080/"
        },
        "id": "0_GtQXLBRUw9",
        "outputId": "3e6f5184-de8c-4c2b-c63c-db23111cb002"
      },
      "execution_count": 33,
      "outputs": [
        {
          "output_type": "stream",
          "name": "stdout",
          "text": [
            "   PassengerId  Survived  Pclass  \\\n",
            "0            1         0       3   \n",
            "1            2         1       1   \n",
            "2            3         1       3   \n",
            "3            4         1       1   \n",
            "4            5         0       3   \n",
            "\n",
            "                                                Name     Sex   Age  SibSp  \\\n",
            "0                            Braund, Mr. Owen Harris    male  22.0      1   \n",
            "1  Cumings, Mrs. John Bradley (Florence Briggs Th...  female  38.0      1   \n",
            "2                             Heikkinen, Miss. Laina  female  26.0      0   \n",
            "3       Futrelle, Mrs. Jacques Heath (Lily May Peel)  female  35.0      1   \n",
            "4                           Allen, Mr. William Henry    male  35.0      0   \n",
            "\n",
            "   Parch            Ticket     Fare Cabin Embarked  \n",
            "0      0         A/5 21171   7.2500   NaN        S  \n",
            "1      0          PC 17599  71.2833   C85        C  \n",
            "2      0  STON/O2. 3101282   7.9250   NaN        S  \n",
            "3      0            113803  53.1000  C123        S  \n",
            "4      0            373450   8.0500   NaN        S  \n"
          ]
        }
      ]
    }
  ]
}